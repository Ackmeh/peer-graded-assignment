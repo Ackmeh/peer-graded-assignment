{
 "cells": [
  {
   "cell_type": "markdown",
   "id": "1197216b",
   "metadata": {},
   "source": [
    "# Data Science Notebook "
   ]
  },
  {
   "cell_type": "markdown",
   "id": "278cf0b0",
   "metadata": {},
   "source": [
    "Welcome to my Data Science notebook! In this notebook, I will explore various data science concepts and techniques using different tools and libraries."
   ]
  },
  {
   "cell_type": "markdown",
   "id": "4b6022ad",
   "metadata": {},
   "source": [
    "## Data Science Languages"
   ]
  },
  {
   "cell_type": "markdown",
   "id": "77ce10c5",
   "metadata": {},
   "source": [
    "· Python\n",
    "· R\n",
    "· C++\n",
    "· Julia\n",
    "· Java"
   ]
  },
  {
   "cell_type": "markdown",
   "id": "f248f0b8",
   "metadata": {},
   "source": [
    "## Data Science Libraries"
   ]
  },
  {
   "cell_type": "markdown",
   "id": "b64cf418",
   "metadata": {},
   "source": [
    "· Pandas\n",
    "· NumPy\n",
    "· Scikit-learn\n",
    "· Matplotlib\n",
    "· Seaborn\n",
    "· ggplot2"
   ]
  },
  {
   "cell_type": "markdown",
   "id": "54f47317",
   "metadata": {},
   "source": [
    "## Data Science Tools"
   ]
  },
  {
   "cell_type": "markdown",
   "id": "05401efa",
   "metadata": {},
   "source": [
    "| Category | Tool | Desciption |\n",
    "| -------- | -------- | -------- |\n",
    "| Data Analysis | Pandas | Data manipulation and analysis library |\n",
    "|  | NumPy | Numerical computing library |\n",
    "|  | SQL | Relational database management system |\n",
    "| Data Visualization | Matplotlib | Data visualization library |\n",
    "|  | Seaborn | Data visualization library |\n",
    "|  | ggplot2 | ggplot2 |\n",
    "| Machine Learning | Scikit-learn | Machine learning library |\n",
    "|  | caret | Machine learning library for R |\n",
    "| Deep Learning | TensorFlow | Deep learning library |\n",
    "|  | Keras | Deep learning library |"
   ]
  },
  {
   "cell_type": "markdown",
   "id": "5e044871",
   "metadata": {},
   "source": [
    "In the following code cells, I will demonstrate some basic arithmetic operations using Python."
   ]
  },
  {
   "cell_type": "code",
   "execution_count": 1,
   "id": "ae98c762",
   "metadata": {},
   "outputs": [
    {
     "name": "stdout",
     "output_type": "stream",
     "text": [
      "17\n"
     ]
    }
   ],
   "source": [
    "# Multiplication and addition\n",
    "x = 5\n",
    "y = 3\n",
    "z = x * y + 2\n",
    "print(z)\n"
   ]
  },
  {
   "cell_type": "code",
   "execution_count": 2,
   "id": "e984bb37",
   "metadata": {},
   "outputs": [
    {
     "name": "stdout",
     "output_type": "stream",
     "text": [
      "2.0\n"
     ]
    }
   ],
   "source": [
    "# Convert minutes to hours\n",
    "minutes = 120\n",
    "hours = minutes / 60\n",
    "print(hours)\n"
   ]
  },
  {
   "cell_type": "markdown",
   "id": "dd253989",
   "metadata": {},
   "source": [
    "## Objectives"
   ]
  },
  {
   "cell_type": "markdown",
   "id": "10be75d9",
   "metadata": {},
   "source": [
    "· Learn data science concepts and techniques\n",
    "· Explore different data science tools and libraries\n",
    "· Apply data science skills to real-world Problems"
   ]
  },
  {
   "cell_type": "markdown",
   "id": "a475dcdc",
   "metadata": {},
   "source": [
    "## Author "
   ]
  },
  {
   "cell_type": "markdown",
   "id": "111ed87a",
   "metadata": {},
   "source": [
    "M.A."
   ]
  },
  {
   "cell_type": "code",
   "execution_count": null,
   "id": "399c751b",
   "metadata": {},
   "outputs": [],
   "source": []
  }
 ],
 "metadata": {
  "kernelspec": {
   "display_name": "Python 3 (ipykernel)",
   "language": "python",
   "name": "python3"
  },
  "language_info": {
   "codemirror_mode": {
    "name": "ipython",
    "version": 3
   },
   "file_extension": ".py",
   "mimetype": "text/x-python",
   "name": "python",
   "nbconvert_exporter": "python",
   "pygments_lexer": "ipython3",
   "version": "3.9.7"
  }
 },
 "nbformat": 4,
 "nbformat_minor": 5
}
